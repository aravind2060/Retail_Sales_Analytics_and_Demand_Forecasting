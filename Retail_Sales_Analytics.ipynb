{
  "nbformat": 4,
  "nbformat_minor": 0,
  "metadata": {
    "colab": {
      "provenance": [],
      "toc_visible": true,
      "authorship_tag": "ABX9TyNGkjEyWPyRg/CGWnbPAWUk",
      "include_colab_link": true
    },
    "kernelspec": {
      "name": "python3",
      "display_name": "Python 3"
    },
    "language_info": {
      "name": "python"
    }
  },
  "cells": [
    {
      "cell_type": "markdown",
      "metadata": {
        "id": "view-in-github",
        "colab_type": "text"
      },
      "source": [
        "<a href=\"https://colab.research.google.com/github/aravind2060/Retail_Sales_Analytics_and_Demand_Forecasting/blob/master/Retail_Sales_Analytics.ipynb\" target=\"_parent\"><img src=\"https://colab.research.google.com/assets/colab-badge.svg\" alt=\"Open In Colab\"/></a>"
      ]
    },
    {
      "cell_type": "markdown",
      "source": [
        "# Intro\n"
      ],
      "metadata": {
        "id": "Gh9TPO5uFgpy"
      }
    },
    {
      "cell_type": "markdown",
      "source": [
        "This project provides hands-on experience in building a large-scale data processing pipeline for demand forecasting, customer sentiment analysis, and real-time analytics for a retail company. It integrates historical data analysis, real-time monitoring, and predictive modeling, creating a complex workflow.\n",
        "\n",
        "Objectives\n",
        "\n",
        "* Process, analyze, and visualize historical retail data\n",
        "* Forecast demand and analyze customer sentiment\n",
        "* Implement real-time transaction monitoring using Spark Streaming\n",
        "\n"
      ],
      "metadata": {
        "id": "IK3zfaMIFszE"
      }
    },
    {
      "cell_type": "code",
      "source": [],
      "metadata": {
        "id": "q46UHdtJF3eW"
      },
      "execution_count": null,
      "outputs": []
    },
    {
      "cell_type": "markdown",
      "source": [
        "# Task 1 : Data Loading, Cleansing, and Exploration"
      ],
      "metadata": {
        "id": "B3Fm4PNjGTgR"
      }
    },
    {
      "cell_type": "markdown",
      "source": [
        "* *Data Ingestion* : Load the sales and review datasets into PySpark. DataFrames, Explore and check for missing or inconsistent data.\n",
        "* *Data Cleansing* : Handle missing values, drop duplicates, and parse dates for consistent data."
      ],
      "metadata": {
        "id": "-51thfW2GiCc"
      }
    },
    {
      "cell_type": "code",
      "source": [
        "\n",
        "# !pip install ucimlrepo\n",
        "\n",
        "# from ucimlrepo import fetch_ucirepo\n",
        "\n",
        "# # fetch dataset\n",
        "# online_retail = fetch_ucirepo(id=352)\n",
        "\n",
        "# # data (as pandas dataframes)\n",
        "# X = online_retail.data.features\n",
        "# y = online_retail.data.targets\n",
        "\n",
        "# # metadata\n",
        "# print(online_retail.metadata)\n",
        "\n",
        "# print(X)\n",
        "# print(y)\n",
        "\n",
        "# # variable information\n",
        "# print(online_retail.variables)"
      ],
      "metadata": {
        "colab": {
          "base_uri": "https://localhost:8080/"
        },
        "id": "3Wc_t7qyWaWH",
        "outputId": "377bd047-3d0b-44b9-8b5a-65375f1d9b20"
      },
      "execution_count": 47,
      "outputs": [
        {
          "output_type": "stream",
          "name": "stdout",
          "text": [
            "Requirement already satisfied: ucimlrepo in /usr/local/lib/python3.10/dist-packages (0.0.7)\n",
            "Requirement already satisfied: pandas>=1.0.0 in /usr/local/lib/python3.10/dist-packages (from ucimlrepo) (2.2.2)\n",
            "Requirement already satisfied: certifi>=2020.12.5 in /usr/local/lib/python3.10/dist-packages (from ucimlrepo) (2024.8.30)\n",
            "Requirement already satisfied: numpy>=1.22.4 in /usr/local/lib/python3.10/dist-packages (from pandas>=1.0.0->ucimlrepo) (1.26.4)\n",
            "Requirement already satisfied: python-dateutil>=2.8.2 in /usr/local/lib/python3.10/dist-packages (from pandas>=1.0.0->ucimlrepo) (2.8.2)\n",
            "Requirement already satisfied: pytz>=2020.1 in /usr/local/lib/python3.10/dist-packages (from pandas>=1.0.0->ucimlrepo) (2024.2)\n",
            "Requirement already satisfied: tzdata>=2022.7 in /usr/local/lib/python3.10/dist-packages (from pandas>=1.0.0->ucimlrepo) (2024.2)\n",
            "Requirement already satisfied: six>=1.5 in /usr/local/lib/python3.10/dist-packages (from python-dateutil>=2.8.2->pandas>=1.0.0->ucimlrepo) (1.16.0)\n",
            "{'uci_id': 352, 'name': 'Online Retail', 'repository_url': 'https://archive.ics.uci.edu/dataset/352/online+retail', 'data_url': 'https://archive.ics.uci.edu/static/public/352/data.csv', 'abstract': 'This is a transactional data set which contains all the transactions occurring between 01/12/2010 and 09/12/2011 for a UK-based and registered non-store online retail.', 'area': 'Business', 'tasks': ['Classification', 'Clustering'], 'characteristics': ['Multivariate', 'Sequential', 'Time-Series'], 'num_instances': 541909, 'num_features': 6, 'feature_types': ['Integer', 'Real'], 'demographics': [], 'target_col': None, 'index_col': ['InvoiceNo', 'StockCode'], 'has_missing_values': 'no', 'missing_values_symbol': None, 'year_of_dataset_creation': 2015, 'last_updated': 'Mon Oct 21 2024', 'dataset_doi': '10.24432/C5BW33', 'creators': ['Daqing Chen'], 'intro_paper': {'ID': 361, 'type': 'NATIVE', 'title': 'Data mining for the online retail industry: A case study of RFM model-based customer segmentation using data mining', 'authors': 'Daqing Chen, Sai Laing Sain, Kun Guo', 'venue': 'Journal of Database Marketing and Customer Strategy Management, Vol. 19, No. 3', 'year': 2012, 'journal': None, 'DOI': '10.1057/dbm.2012.17', 'URL': 'https://www.semanticscholar.org/paper/e43a5a90fa33d419df42e485099f8f08badf2149', 'sha': None, 'corpus': None, 'arxiv': None, 'mag': None, 'acl': None, 'pmid': None, 'pmcid': None}, 'additional_info': {'summary': 'This is a transactional data set which contains all the transactions occurring between 01/12/2010 and 09/12/2011 for a UK-based and registered non-store online retail.The company mainly sells unique all-occasion gifts. Many customers of the company are wholesalers.', 'purpose': None, 'funded_by': None, 'instances_represent': None, 'recommended_data_splits': None, 'sensitive_data': None, 'preprocessing_description': None, 'variable_info': \"InvoiceNo: Invoice number. Nominal, a 6-digit integral number uniquely assigned to each transaction. If this code starts with letter 'c', it indicates a cancellation. \\nStockCode: Product (item) code. Nominal, a 5-digit integral number uniquely assigned to each distinct product.\\nDescription: Product (item) name. Nominal.\\nQuantity: The quantities of each product (item) per transaction. Numeric.\\t\\nInvoiceDate: Invoice Date and time. Numeric, the day and time when each transaction was generated.\\nUnitPrice: Unit price. Numeric, Product price per unit in sterling.\\nCustomerID: Customer number. Nominal, a 5-digit integral number uniquely assigned to each customer.\\nCountry: Country name. Nominal, the name of the country where each customer resides. \", 'citation': None}}\n",
            "                                Description  Quantity      InvoiceDate  \\\n",
            "0        WHITE HANGING HEART T-LIGHT HOLDER         6   12/1/2010 8:26   \n",
            "1                       WHITE METAL LANTERN         6   12/1/2010 8:26   \n",
            "2            CREAM CUPID HEARTS COAT HANGER         8   12/1/2010 8:26   \n",
            "3       KNITTED UNION FLAG HOT WATER BOTTLE         6   12/1/2010 8:26   \n",
            "4            RED WOOLLY HOTTIE WHITE HEART.         6   12/1/2010 8:26   \n",
            "...                                     ...       ...              ...   \n",
            "541904          PACK OF 20 SPACEBOY NAPKINS        12  12/9/2011 12:50   \n",
            "541905         CHILDREN'S APRON DOLLY GIRL          6  12/9/2011 12:50   \n",
            "541906        CHILDRENS CUTLERY DOLLY GIRL          4  12/9/2011 12:50   \n",
            "541907      CHILDRENS CUTLERY CIRCUS PARADE         4  12/9/2011 12:50   \n",
            "541908        BAKING SET 9 PIECE RETROSPOT          3  12/9/2011 12:50   \n",
            "\n",
            "        UnitPrice  CustomerID         Country  \n",
            "0            2.55     17850.0  United Kingdom  \n",
            "1            3.39     17850.0  United Kingdom  \n",
            "2            2.75     17850.0  United Kingdom  \n",
            "3            3.39     17850.0  United Kingdom  \n",
            "4            3.39     17850.0  United Kingdom  \n",
            "...           ...         ...             ...  \n",
            "541904       0.85     12680.0          France  \n",
            "541905       2.10     12680.0          France  \n",
            "541906       4.15     12680.0          France  \n",
            "541907       4.15     12680.0          France  \n",
            "541908       4.95     12680.0          France  \n",
            "\n",
            "[541909 rows x 6 columns]\n",
            "None\n",
            "          name     role         type demographic  \\\n",
            "0    InvoiceNo       ID  Categorical        None   \n",
            "1    StockCode       ID  Categorical        None   \n",
            "2  Description  Feature  Categorical        None   \n",
            "3     Quantity  Feature      Integer        None   \n",
            "4  InvoiceDate  Feature         Date        None   \n",
            "5    UnitPrice  Feature   Continuous        None   \n",
            "6   CustomerID  Feature  Categorical        None   \n",
            "7      Country  Feature  Categorical        None   \n",
            "\n",
            "                                         description     units missing_values  \n",
            "0  a 6-digit integral number uniquely assigned to...      None             no  \n",
            "1  a 5-digit integral number uniquely assigned to...      None             no  \n",
            "2                                       product name      None             no  \n",
            "3  the quantities of each product (item) per tran...      None             no  \n",
            "4  the day and time when each transaction was gen...      None             no  \n",
            "5                             product price per unit  sterling             no  \n",
            "6  a 5-digit integral number uniquely assigned to...      None             no  \n",
            "7  the name of the country where each customer re...      None             no  \n"
          ]
        }
      ]
    },
    {
      "cell_type": "code",
      "source": [
        "# Downloading Historical Sales data: – Contains sales transaction data for an online retail store.\n",
        "# More Info : https://archive.ics.uci.edu/dataset/352/online+retail\n",
        "\n",
        "import pandas as pd\n",
        "\n",
        "historical_sales_data_path =\"https://archive.ics.uci.edu/static/public/352/data.csv\";\n",
        "\n",
        "historical_sales_df = pd.read_csv(historical_sales_data_path)\n",
        "\n",
        "# print(historical_sales_df.info())\n",
        "print(historical_sales_df.head())"
      ],
      "metadata": {
        "colab": {
          "base_uri": "https://localhost:8080/"
        },
        "id": "rU6s8jYyHQbA",
        "outputId": "ccb04878-8120-4e41-c6a5-fef2075a03d8"
      },
      "execution_count": 49,
      "outputs": [
        {
          "output_type": "stream",
          "name": "stdout",
          "text": [
            "  InvoiceNo StockCode                          Description  Quantity  \\\n",
            "0    536365    85123A   WHITE HANGING HEART T-LIGHT HOLDER         6   \n",
            "1    536365     71053                  WHITE METAL LANTERN         6   \n",
            "2    536365    84406B       CREAM CUPID HEARTS COAT HANGER         8   \n",
            "3    536365    84029G  KNITTED UNION FLAG HOT WATER BOTTLE         6   \n",
            "4    536365    84029E       RED WOOLLY HOTTIE WHITE HEART.         6   \n",
            "\n",
            "      InvoiceDate  UnitPrice  CustomerID         Country  \n",
            "0  12/1/2010 8:26       2.55     17850.0  United Kingdom  \n",
            "1  12/1/2010 8:26       3.39     17850.0  United Kingdom  \n",
            "2  12/1/2010 8:26       2.75     17850.0  United Kingdom  \n",
            "3  12/1/2010 8:26       3.39     17850.0  United Kingdom  \n",
            "4  12/1/2010 8:26       3.39     17850.0  United Kingdom  \n"
          ]
        }
      ]
    },
    {
      "cell_type": "code",
      "source": [
        "# Downloading Customer Reviews Data: – Includes detailed customer review data for sentiment analysis.\n",
        "# More information : https://registry.opendata.aws/helpful-sentences-from-reviews/\n",
        "\n",
        "import requests\n",
        "import pandas as pd\n",
        "import json\n",
        "\n",
        "# Define the URLs for the train and test files\n",
        "train_file_path = \"https://helpful-sentences-from-reviews.s3.amazonaws.com/train.json\"\n",
        "test_file_path  = \"https://helpful-sentences-from-reviews.s3.amazonaws.com/test.json\"\n",
        "\n",
        "# Function to load JSON from a URL where each line is a separate JSON object\n",
        "def load_json_from_url(url):\n",
        "    response = requests.get(url)\n",
        "    data = []\n",
        "\n",
        "    # Read each line from the response text as a separate JSON object\n",
        "    for line in response.text.splitlines():\n",
        "        try:\n",
        "            data.append(json.loads(line))  # Convert each line into a dictionary\n",
        "        except json.JSONDecodeError:\n",
        "            # Skip invalid lines if any, or handle them differently if needed\n",
        "            continue\n",
        "\n",
        "    return data\n",
        "\n",
        "# Load the train data\n",
        "train_data = load_json_from_url(train_file_path)\n",
        "train_df = pd.DataFrame(train_data)\n",
        "\n",
        "# Load the test data\n",
        "test_data = load_json_from_url(test_file_path)\n",
        "test_df = pd.DataFrame(test_data)\n",
        "\n",
        "# Print the first few rows of the train DataFrame\n",
        "print(train_df.head())\n",
        "\n",
        "# Optionally, print the test DataFrame as well\n",
        "# print(test_df.head())"
      ],
      "metadata": {
        "colab": {
          "base_uri": "https://localhost:8080/"
        },
        "id": "wTepzWgGHiWu",
        "outputId": "41b108c1-f3b0-4556-9755-5841686fbc8f"
      },
      "execution_count": 50,
      "outputs": [
        {
          "output_type": "stream",
          "name": "stdout",
          "text": [
            "         asin                                           sentence  helpful  \\\n",
            "0  B000AO3L84                      this flash is a superb value.     1.70   \n",
            "1  B001SEQPGK                The pictures were not sharp at all.     1.30   \n",
            "2  0553386697                  A very good resource for parents.     1.90   \n",
            "3  B006SUWZH2  We have it in a child's room, and will be swit...     0.25   \n",
            "4  B000W7F5SS  Again the makers are too lazy to bring in the ...     0.90   \n",
            "\n",
            "                                      main_image_url  \\\n",
            "0  http://ecx.images-amazon.com/images/I/41XAEKR9...   \n",
            "1  http://ecx.images-amazon.com/images/I/71KLvmtc...   \n",
            "2  http://ecx.images-amazon.com/images/I/81HdbmkR...   \n",
            "3  http://ecx.images-amazon.com/images/I/61A2WQOL...   \n",
            "4  http://ecx.images-amazon.com/images/I/91E7TPDb...   \n",
            "\n",
            "                                       product_title  \n",
            "0  Canon 430EX Speedlite Flash for Canon EOS SLR ...  \n",
            "1  Sony Cyber-shot DSC-W290 12 MP Digital Camera ...  \n",
            "2  The Whole-Brain Child: 12 Revolutionary Strate...  \n",
            "3       Memorex Portable CD Boombox with AM FM Radio  \n",
            "4  Harry Potter and the Order of the Phoenix (Wid...  \n"
          ]
        }
      ]
    },
    {
      "cell_type": "markdown",
      "source": [
        "Checking for Any null values"
      ],
      "metadata": {
        "id": "OXieYqJlSXYF"
      }
    },
    {
      "cell_type": "code",
      "source": [
        "#Checking for null columns in historical_sales_df\n",
        "missing_columns = historical_sales_df.columns[historical_sales_df.isnull().any()].tolist()\n",
        "print(missing_columns)\n",
        "\n",
        "#Checking for null columns in customer reviews\n",
        "missing_columns = train_df.columns[train_df.isnull().any()].tolist()\n",
        "print(missing_columns)\n",
        "\n",
        "#Checking for null Columns in Customer reviews\n",
        "missing_columns = test_df.columns[test_df.isnull().any()].tolist()\n",
        "print(missing_columns)"
      ],
      "metadata": {
        "colab": {
          "base_uri": "https://localhost:8080/"
        },
        "id": "j7GtO17ySbp2",
        "outputId": "3aba2d97-6384-4292-ef94-1c7daf25bb1a"
      },
      "execution_count": 51,
      "outputs": [
        {
          "output_type": "stream",
          "name": "stdout",
          "text": [
            "['Description', 'CustomerID']\n",
            "[]\n",
            "[]\n"
          ]
        }
      ]
    },
    {
      "cell_type": "code",
      "source": [],
      "metadata": {
        "id": "XRATOVgGSs4h"
      },
      "execution_count": null,
      "outputs": []
    }
  ]
}