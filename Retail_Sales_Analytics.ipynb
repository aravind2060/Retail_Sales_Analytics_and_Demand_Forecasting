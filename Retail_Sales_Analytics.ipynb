{
  "nbformat": 4,
  "nbformat_minor": 0,
  "metadata": {
    "colab": {
      "provenance": [],
      "toc_visible": true,
      "authorship_tag": "ABX9TyOskpkJjSxaJ50YWtT33zkb",
      "include_colab_link": true
    },
    "kernelspec": {
      "name": "python3",
      "display_name": "Python 3"
    },
    "language_info": {
      "name": "python"
    }
  },
  "cells": [
    {
      "cell_type": "markdown",
      "metadata": {
        "id": "view-in-github",
        "colab_type": "text"
      },
      "source": [
        "<a href=\"https://colab.research.google.com/github/aravind2060/Retail_Sales_Analytics_and_Demand_Forecasting/blob/master/Retail_Sales_Analytics.ipynb\" target=\"_parent\"><img src=\"https://colab.research.google.com/assets/colab-badge.svg\" alt=\"Open In Colab\"/></a>"
      ]
    },
    {
      "cell_type": "markdown",
      "source": [
        "# Intro\n"
      ],
      "metadata": {
        "id": "Gh9TPO5uFgpy"
      }
    },
    {
      "cell_type": "markdown",
      "source": [
        "This project provides hands-on experience in building a large-scale data processing pipeline for demand forecasting, customer sentiment analysis, and real-time analytics for a retail company. It integrates historical data analysis, real-time monitoring, and predictive modeling, creating a complex workflow.\n",
        "\n",
        "Objectives\n",
        "\n",
        "* Process, analyze, and visualize historical retail data\n",
        "* Forecast demand and analyze customer sentiment\n",
        "* Implement real-time transaction monitoring using Spark Streaming\n",
        "\n"
      ],
      "metadata": {
        "id": "IK3zfaMIFszE"
      }
    },
    {
      "cell_type": "code",
      "source": [],
      "metadata": {
        "id": "q46UHdtJF3eW"
      },
      "execution_count": null,
      "outputs": []
    },
    {
      "cell_type": "markdown",
      "source": [
        "# Task 1 : Data Loading, Cleansing, and Exploration"
      ],
      "metadata": {
        "id": "B3Fm4PNjGTgR"
      }
    },
    {
      "cell_type": "markdown",
      "source": [
        "* *Data Ingestion* : Load the sales and review datasets into PySpark. DataFrames, Explore and check for missing or inconsistent data.\n",
        "* *Data Cleansing* : Handle missing values, drop duplicates, and parse dates for consistent data."
      ],
      "metadata": {
        "id": "-51thfW2GiCc"
      }
    },
    {
      "cell_type": "code",
      "source": [
        "!pip install ucimlrepo\n",
        "\n",
        "from ucimlrepo import fetch_ucirepo"
      ],
      "metadata": {
        "colab": {
          "base_uri": "https://localhost:8080/"
        },
        "id": "KD7OpY0fG0EX",
        "outputId": "c593f974-8f1e-4439-e9b5-64af7a73595c"
      },
      "execution_count": 15,
      "outputs": [
        {
          "output_type": "stream",
          "name": "stdout",
          "text": [
            "Requirement already satisfied: ucimlrepo in /usr/local/lib/python3.10/dist-packages (0.0.7)\n",
            "Requirement already satisfied: pandas>=1.0.0 in /usr/local/lib/python3.10/dist-packages (from ucimlrepo) (2.2.2)\n",
            "Requirement already satisfied: certifi>=2020.12.5 in /usr/local/lib/python3.10/dist-packages (from ucimlrepo) (2024.8.30)\n",
            "Requirement already satisfied: numpy>=1.22.4 in /usr/local/lib/python3.10/dist-packages (from pandas>=1.0.0->ucimlrepo) (1.26.4)\n",
            "Requirement already satisfied: python-dateutil>=2.8.2 in /usr/local/lib/python3.10/dist-packages (from pandas>=1.0.0->ucimlrepo) (2.8.2)\n",
            "Requirement already satisfied: pytz>=2020.1 in /usr/local/lib/python3.10/dist-packages (from pandas>=1.0.0->ucimlrepo) (2024.2)\n",
            "Requirement already satisfied: tzdata>=2022.7 in /usr/local/lib/python3.10/dist-packages (from pandas>=1.0.0->ucimlrepo) (2024.2)\n",
            "Requirement already satisfied: six>=1.5 in /usr/local/lib/python3.10/dist-packages (from python-dateutil>=2.8.2->pandas>=1.0.0->ucimlrepo) (1.16.0)\n"
          ]
        }
      ]
    },
    {
      "cell_type": "code",
      "source": [
        "# fetch dataset\n",
        "online_retail = fetch_ucirepo(id=352)\n",
        "\n",
        "# data (as pandas dataframes)\n",
        "X = online_retail.data.features\n",
        "y = online_retail.data.targets\n",
        "\n",
        "# metadata\n",
        "print(online_retail.metadata)\n",
        "\n",
        "# variable information\n",
        "print(online_retail.variables)"
      ],
      "metadata": {
        "colab": {
          "base_uri": "https://localhost:8080/"
        },
        "id": "rU6s8jYyHQbA",
        "outputId": "b2e6ed87-e2b2-4388-fc64-6efcd1a2e077"
      },
      "execution_count": 4,
      "outputs": [
        {
          "output_type": "stream",
          "name": "stdout",
          "text": [
            "{'uci_id': 352, 'name': 'Online Retail', 'repository_url': 'https://archive.ics.uci.edu/dataset/352/online+retail', 'data_url': 'https://archive.ics.uci.edu/static/public/352/data.csv', 'abstract': 'This is a transactional data set which contains all the transactions occurring between 01/12/2010 and 09/12/2011 for a UK-based and registered non-store online retail.', 'area': 'Business', 'tasks': ['Classification', 'Clustering'], 'characteristics': ['Multivariate', 'Sequential', 'Time-Series'], 'num_instances': 541909, 'num_features': 6, 'feature_types': ['Integer', 'Real'], 'demographics': [], 'target_col': None, 'index_col': ['InvoiceNo', 'StockCode'], 'has_missing_values': 'no', 'missing_values_symbol': None, 'year_of_dataset_creation': 2015, 'last_updated': 'Mon Oct 21 2024', 'dataset_doi': '10.24432/C5BW33', 'creators': ['Daqing Chen'], 'intro_paper': {'ID': 361, 'type': 'NATIVE', 'title': 'Data mining for the online retail industry: A case study of RFM model-based customer segmentation using data mining', 'authors': 'Daqing Chen, Sai Laing Sain, Kun Guo', 'venue': 'Journal of Database Marketing and Customer Strategy Management, Vol. 19, No. 3', 'year': 2012, 'journal': None, 'DOI': '10.1057/dbm.2012.17', 'URL': 'https://www.semanticscholar.org/paper/e43a5a90fa33d419df42e485099f8f08badf2149', 'sha': None, 'corpus': None, 'arxiv': None, 'mag': None, 'acl': None, 'pmid': None, 'pmcid': None}, 'additional_info': {'summary': 'This is a transactional data set which contains all the transactions occurring between 01/12/2010 and 09/12/2011 for a UK-based and registered non-store online retail.The company mainly sells unique all-occasion gifts. Many customers of the company are wholesalers.', 'purpose': None, 'funded_by': None, 'instances_represent': None, 'recommended_data_splits': None, 'sensitive_data': None, 'preprocessing_description': None, 'variable_info': \"InvoiceNo: Invoice number. Nominal, a 6-digit integral number uniquely assigned to each transaction. If this code starts with letter 'c', it indicates a cancellation. \\nStockCode: Product (item) code. Nominal, a 5-digit integral number uniquely assigned to each distinct product.\\nDescription: Product (item) name. Nominal.\\nQuantity: The quantities of each product (item) per transaction. Numeric.\\t\\nInvoiceDate: Invoice Date and time. Numeric, the day and time when each transaction was generated.\\nUnitPrice: Unit price. Numeric, Product price per unit in sterling.\\nCustomerID: Customer number. Nominal, a 5-digit integral number uniquely assigned to each customer.\\nCountry: Country name. Nominal, the name of the country where each customer resides. \", 'citation': None}}\n",
            "          name     role         type demographic  \\\n",
            "0    InvoiceNo       ID  Categorical        None   \n",
            "1    StockCode       ID  Categorical        None   \n",
            "2  Description  Feature  Categorical        None   \n",
            "3     Quantity  Feature      Integer        None   \n",
            "4  InvoiceDate  Feature         Date        None   \n",
            "5    UnitPrice  Feature   Continuous        None   \n",
            "6   CustomerID  Feature  Categorical        None   \n",
            "7      Country  Feature  Categorical        None   \n",
            "\n",
            "                                         description     units missing_values  \n",
            "0  a 6-digit integral number uniquely assigned to...      None             no  \n",
            "1  a 5-digit integral number uniquely assigned to...      None             no  \n",
            "2                                       product name      None             no  \n",
            "3  the quantities of each product (item) per tran...      None             no  \n",
            "4  the day and time when each transaction was gen...      None             no  \n",
            "5                             product price per unit  sterling             no  \n",
            "6  a 5-digit integral number uniquely assigned to...      None             no  \n",
            "7  the name of the country where each customer re...      None             no  \n"
          ]
        }
      ]
    },
    {
      "cell_type": "code",
      "source": [
        "import requests\n",
        "import pandas as pd\n",
        "import json\n",
        "\n",
        "# Define the URLs for the train and test files\n",
        "train_file_path = \"https://helpful-sentences-from-reviews.s3.amazonaws.com/train.json\"\n",
        "test_file_path  = \"https://helpful-sentences-from-reviews.s3.amazonaws.com/test.json\"\n",
        "\n",
        "# Function to load JSON from a URL where each line is a separate JSON object\n",
        "def load_json_from_url(url):\n",
        "    response = requests.get(url)\n",
        "    data = []\n",
        "\n",
        "    # Read each line from the response text as a separate JSON object\n",
        "    for line in response.text.splitlines():\n",
        "        try:\n",
        "            data.append(json.loads(line))  # Convert each line into a dictionary\n",
        "        except json.JSONDecodeError:\n",
        "            # Skip invalid lines if any, or handle them differently if needed\n",
        "            continue\n",
        "\n",
        "    return data\n",
        "\n",
        "# Load the train data\n",
        "train_data = load_json_from_url(train_file_path)\n",
        "train_df = pd.DataFrame(train_data)\n",
        "\n",
        "# Load the test data\n",
        "test_data = load_json_from_url(test_file_path)\n",
        "test_df = pd.DataFrame(test_data)\n",
        "\n",
        "# Print the first few rows of the train DataFrame\n",
        "print(train_df.head())\n",
        "\n",
        "# Optionally, print the test DataFrame as well\n",
        "# print(test_df.head())"
      ],
      "metadata": {
        "colab": {
          "base_uri": "https://localhost:8080/"
        },
        "id": "wTepzWgGHiWu",
        "outputId": "af35cf67-db8b-4ec0-8d91-1d96d0663f46"
      },
      "execution_count": 30,
      "outputs": [
        {
          "output_type": "stream",
          "name": "stdout",
          "text": [
            "         asin                                           sentence  helpful  \\\n",
            "0  B000AO3L84                      this flash is a superb value.     1.70   \n",
            "1  B001SEQPGK                The pictures were not sharp at all.     1.30   \n",
            "2  0553386697                  A very good resource for parents.     1.90   \n",
            "3  B006SUWZH2  We have it in a child's room, and will be swit...     0.25   \n",
            "4  B000W7F5SS  Again the makers are too lazy to bring in the ...     0.90   \n",
            "\n",
            "                                      main_image_url  \\\n",
            "0  http://ecx.images-amazon.com/images/I/41XAEKR9...   \n",
            "1  http://ecx.images-amazon.com/images/I/71KLvmtc...   \n",
            "2  http://ecx.images-amazon.com/images/I/81HdbmkR...   \n",
            "3  http://ecx.images-amazon.com/images/I/61A2WQOL...   \n",
            "4  http://ecx.images-amazon.com/images/I/91E7TPDb...   \n",
            "\n",
            "                                       product_title  \n",
            "0  Canon 430EX Speedlite Flash for Canon EOS SLR ...  \n",
            "1  Sony Cyber-shot DSC-W290 12 MP Digital Camera ...  \n",
            "2  The Whole-Brain Child: 12 Revolutionary Strate...  \n",
            "3       Memorex Portable CD Boombox with AM FM Radio  \n",
            "4  Harry Potter and the Order of the Phoenix (Wid...  \n"
          ]
        }
      ]
    },
    {
      "cell_type": "code",
      "source": [],
      "metadata": {
        "id": "4jIlqL_qLDCz"
      },
      "execution_count": null,
      "outputs": []
    }
  ]
}